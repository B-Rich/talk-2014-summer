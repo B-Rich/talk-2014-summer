{
 "metadata": {
  "celltoolbar": "Slideshow",
  "name": "",
  "signature": "sha256:6ddcd785a36aa7217f6385d4acaefe4494c5f3d9c8e59f39e5fbde64b2d7a595"
 },
 "nbformat": 3,
 "nbformat_minor": 0,
 "worksheets": [
  {
   "cells": [
    {
     "cell_type": "heading",
     "level": 1,
     "metadata": {
      "slideshow": {
       "slide_type": "slide"
      }
     },
     "source": [
      "IPython for Reproducible Interactive and Exploratory Computing"
     ]
    },
    {
     "cell_type": "heading",
     "level": 2,
     "metadata": {},
     "source": [
      "An 80/20 approach"
     ]
    },
    {
     "cell_type": "markdown",
     "metadata": {
      "slideshow": {
       "slide_type": "-"
      }
     },
     "source": [
      "### Brian E. Granger (@ellisonbg)\n",
      "\n",
      "### Physics Professor, Cal Poly\n",
      "\n",
      "<img src=\"images/calpoly_logo.png\" height=\"65px\">\n",
      "\n",
      "### Core developer, IPython Project\n",
      "\n",
      "<img src=\"images/ipython_logo.png\" height=\"65px\">"
     ]
    },
    {
     "cell_type": "heading",
     "level": 2,
     "metadata": {
      "slideshow": {
       "slide_type": "slide"
      }
     },
     "source": [
      "Outline:"
     ]
    },
    {
     "cell_type": "markdown",
     "metadata": {},
     "source": [
      "* [IPython Project](IPython Project.ipynb)\n",
      "* [Lifecycle](Lifecycle.ipynb)\n",
      "* [Multilanguage](Multilanguage.ipynb)\n",
      "* [Interaction](Interaction.ipynb)"
     ]
    },
    {
     "cell_type": "heading",
     "level": 2,
     "metadata": {
      "slideshow": {
       "slide_type": "slide"
      }
     },
     "source": [
      "Styling"
     ]
    },
    {
     "cell_type": "code",
     "collapsed": false,
     "input": [
      "from IPython.display import display, Image, HTML\n",
      "from talktools import website, nbviewer"
     ],
     "language": "python",
     "metadata": {},
     "outputs": [],
     "prompt_number": 2
    },
    {
     "cell_type": "code",
     "collapsed": false,
     "input": [
      "HTML(\"\"\"\n",
      "<style>\n",
      "div.cell.slideshow-slide {margin-top: 800px}\n",
      "</style>\n",
      "\"\"\")"
     ],
     "language": "python",
     "metadata": {
      "slideshow": {
       "slide_type": "-"
      }
     },
     "outputs": [
      {
       "html": [
        "\n",
        "<style>\n",
        "div.cell.slideshow-slide {margin-top: 800px}\n",
        "</style>\n"
       ],
       "metadata": {},
       "output_type": "pyout",
       "prompt_number": 5,
       "text": [
        "<IPython.core.display.HTML object>"
       ]
      }
     ],
     "prompt_number": 5
    },
    {
     "cell_type": "code",
     "collapsed": false,
     "input": [],
     "language": "python",
     "metadata": {},
     "outputs": []
    }
   ],
   "metadata": {}
  }
 ]
}